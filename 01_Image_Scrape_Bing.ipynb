{
 "cells": [
  {
   "cell_type": "raw",
   "metadata": {},
   "source": [
    "Pre-analysis instructions:\n",
    "- Create Azure account\n",
    "- Install using pip install azure-cognitiveservices-search-imagesearch\n",
    "- Creat Azure Resource (Motor_Insurance_Data) (https://docs.microsoft.com/en-us/bing/search-apis/bing-web-search/create-bing-search-service-resource)\n",
    "- Obtain API keys for Computer Vision via Microsoft website"
   ]
  },
  {
   "cell_type": "markdown",
   "metadata": {},
   "source": [
    "#  Azure Image Scrape"
   ]
  },
  {
   "cell_type": "code",
   "execution_count": 138,
   "metadata": {},
   "outputs": [],
   "source": [
    "#from azure.cognitiveservices.search.imagesearch import ImageSearchClient\n",
    "#from msrest.authentication import CognitiveServicesCredentials"
   ]
  },
  {
   "cell_type": "code",
   "execution_count": 88,
   "metadata": {},
   "outputs": [],
   "source": [
    "# Run this to create list to save image URLs and image file names. \n",
    "images = []\n",
    "image_name = []"
   ]
  },
  {
   "cell_type": "code",
   "execution_count": 107,
   "metadata": {},
   "outputs": [],
   "source": [
    "import json\n",
    "import os \n",
    "from pprint import pprint\n",
    "import requests\n",
    "\n",
    "# Add your Bing Search V7 subscription key and endpoint to your environment variables.\n",
    "subscription_key = \"ff261e80f649468dab61f5f938238407\"\n",
    "endpoint = 'https://api.bing.microsoft.com/v7.0/images/search'\n",
    "\n",
    "# Query term(s) to search for. \n",
    "query = \"car broken window\"\n",
    "\n",
    "# Construct a request\n",
    "mkt = 'en-US'\n",
    "params = { 'q': query, 'mkt': mkt, 'count' : 150, 'offset': 2100}\n",
    "headers = { 'Ocp-Apim-Subscription-Key': subscription_key }\n",
    "\n",
    "# Call the API\n",
    "try:\n",
    "    response = requests.get(endpoint, headers=headers, params=params)\n",
    "    response.raise_for_status()\n",
    "\n",
    "    #print(\"\\nHeaders:\\n\")\n",
    "    #print(response.headers)\n",
    "\n",
    "    #print(\"\\nJSON Response:\\n\")\n",
    "    #pprint(response.json())\n",
    "except Exception as ex:\n",
    "    raise ex\n",
    "\n",
    "# Convert response to json\n",
    "response_JSON = response.json()\n",
    "\n",
    "# add url of images to list\n",
    "for i in range(0, len(response_JSON['value'])):\n",
    "    images.append(response_JSON['value'][i][\"contentUrl\"])\n",
    "    \n",
    "# add name of each image to list. Will need this when we save the images.\n",
    "for i in range(0, len(response_JSON['value'])):\n",
    "    image_name.append(response_JSON['value'][i][\"imageId\"])"
   ]
  },
  {
   "cell_type": "code",
   "execution_count": 108,
   "metadata": {},
   "outputs": [
    {
     "data": {
      "text/plain": [
       "1627"
      ]
     },
     "execution_count": 108,
     "metadata": {},
     "output_type": "execute_result"
    }
   ],
   "source": [
    "# Check number of images scraped\n",
    "len(images)"
   ]
  },
  {
   "cell_type": "code",
   "execution_count": 109,
   "metadata": {
    "scrolled": true
   },
   "outputs": [],
   "source": [
    "# Save images to Data folder\n",
    "import requests\n",
    "import shutil\n",
    "import time\n",
    "\n",
    "dir_name = \"C:/Users/Aiden/Documents/Data_Science_Stuff/sf_Data_Science_Stuff/Practice/06_Motor_Insurance_Claims_Classifier/Data/\"\n",
    "headers = {'user-agent': 'Mozilla/5.0 (X11; Linux x86_64) AppleWebKit/537.36 (KHTML, like Gecko) Chrome/86.0.4240.111 Safari/537.36'}\n",
    "for image, name in zip(images, image_name):\n",
    "    try:\n",
    "        r = requests.get(image, stream=True, headers=headers)\n",
    "        if r.status_code == 200:\n",
    "            with open(f'{dir_name}{name}.png', 'wb') as f:\n",
    "                r.raw.decode_content = True\n",
    "                shutil.copyfileobj(r.raw,f)\n",
    "                #time.sleep(5)\n",
    "    except:\n",
    "        pass\n",
    "\n",
    "\n"
   ]
  },
  {
   "cell_type": "code",
   "execution_count": null,
   "metadata": {},
   "outputs": [],
   "source": []
  }
 ],
 "metadata": {
  "kernelspec": {
   "display_name": "Python 3 (ipykernel)",
   "language": "python",
   "name": "python3"
  },
  "language_info": {
   "codemirror_mode": {
    "name": "ipython",
    "version": 3
   },
   "file_extension": ".py",
   "mimetype": "text/x-python",
   "name": "python",
   "nbconvert_exporter": "python",
   "pygments_lexer": "ipython3",
   "version": "3.9.13"
  }
 },
 "nbformat": 4,
 "nbformat_minor": 2
}
