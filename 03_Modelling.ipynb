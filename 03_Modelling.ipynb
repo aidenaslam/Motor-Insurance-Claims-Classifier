{
 "cells": [
  {
   "cell_type": "markdown",
   "metadata": {},
   "source": [
    "## Modelling"
   ]
  },
  {
   "cell_type": "code",
   "execution_count": 1,
   "metadata": {},
   "outputs": [],
   "source": [
    "import numpy as np\n",
    "from os import listdir\n",
    "from tensorflow.keras.preprocessing.image import load_img\n",
    "import tensorflow as tf"
   ]
  },
  {
   "cell_type": "code",
   "execution_count": 2,
   "metadata": {},
   "outputs": [],
   "source": [
    "data_dir = \"C:/Users/Aiden/Documents/Data_Science_Stuff/sf_Data_Science_Stuff/Projects/05_Motor_Insurance_Claims_Classifier/dev_aiden/01_Image_Scrape/\""
   ]
  },
  {
   "cell_type": "code",
   "execution_count": 3,
   "metadata": {},
   "outputs": [],
   "source": [
    "# Load image data from npy file\n",
    "data_class_0 = np.load(data_dir+'data_class_0.npy', allow_pickle=True)\n",
    "data_class_1 = np.load(data_dir+'data_class_1.npy', allow_pickle=True)\n",
    "data_class_2 = np.load(data_dir+'data_class_2.npy', allow_pickle=True)\n",
    "data_class_3 = np.load(data_dir+'data_class_3.npy', allow_pickle=True)\n",
    "data_class_4 = np.load(data_dir+'data_class_4.npy', allow_pickle=True)\n",
    "data_class_5 = np.load(data_dir+'data_class_5.npy', allow_pickle=True)"
   ]
  },
  {
   "cell_type": "code",
   "execution_count": 4,
   "metadata": {},
   "outputs": [
    {
     "data": {
      "text/plain": [
       "1"
      ]
     },
     "execution_count": 4,
     "metadata": {},
     "output_type": "execute_result"
    }
   ],
   "source": [
    "np.size(data_class_0[386][223][223][2]) # 387 images, size of 224 x 224, 3 channel"
   ]
  },
  {
   "cell_type": "code",
   "execution_count": 5,
   "metadata": {},
   "outputs": [],
   "source": [
    "# Re-shape data\n",
    "data_class_0_reshaped = tf.image.resize(data_class_0,[224,224])\n",
    "data_class_1_reshaped = tf.image.resize(data_class_1,[224,224])\n",
    "data_class_2_reshaped = tf.image.resize(data_class_2,[224,224])\n",
    "data_class_3_reshaped = tf.image.resize(data_class_3,[224,224])\n",
    "data_class_4_reshaped = tf.image.resize(data_class_4,[224,224])\n",
    "data_class_5_reshaped = tf.image.resize(data_class_5,[224,224])"
   ]
  },
  {
   "cell_type": "code",
   "execution_count": 6,
   "metadata": {},
   "outputs": [
    {
     "data": {
      "text/plain": [
       "<tf.Tensor: shape=(387, 224, 224, 3), dtype=float32, numpy=\n",
       "array([[[[144.63393   , 151.1046    , 153.70792   ],\n",
       "         [ 44.72704   ,  32.33291   ,  39.390305  ],\n",
       "         [189.32901   ,  79.63005   ,  82.374954  ],\n",
       "         ...,\n",
       "         [ 16.123608  ,  53.123608  ,  72.12361   ],\n",
       "         [ 38.164433  ,  73.16444   ,  92.16444   ],\n",
       "         [ 42.4548    ,  86.0975    , 101.88327   ]],\n",
       "\n",
       "        [[190.59564   , 204.01657   , 218.38136   ],\n",
       "         [174.01915   , 192.07272   , 186.82782   ],\n",
       "         [ 45.403053  ,  34.155632  ,  32.47705   ],\n",
       "         ...,\n",
       "         [ 38.75127   ,  75.751274  ,  94.751274  ],\n",
       "         [ 36.219578  ,  73.21958   ,  91.21958   ],\n",
       "         [ 17.267857  ,  59.48209   ,  75.482086  ]],\n",
       "\n",
       "        [[ 22.871164  ,  55.468098  ,  73.771675  ],\n",
       "         [125.454056  , 153.51274   , 175.26146   ],\n",
       "         [202.51787   , 206.40053   , 211.93625   ],\n",
       "         ...,\n",
       "         [ 40.37122   ,  77.371216  ,  96.371216  ],\n",
       "         [ 19.389112  ,  58.0702    ,  75.22966   ],\n",
       "         [ 17.886398  ,  59.2437    ,  75.45793   ]],\n",
       "\n",
       "        ...,\n",
       "\n",
       "        [[ 43.563877  ,  92.51444   , 119.36663   ],\n",
       "         [ 15.143696  ,  39.8072    ,  47.77262   ],\n",
       "         [  4.649578  ,  17.649578  ,  25.721008  ],\n",
       "         ...,\n",
       "         [  8.039524  ,  23.672403  ,  32.114937  ],\n",
       "         [ 43.298584  , 103.06574   , 126.26507   ],\n",
       "         [ 12.248779  ,  87.55347   , 132.11858   ]],\n",
       "\n",
       "        [[ 41.674637  ,  91.67464   , 128.3609    ],\n",
       "         [ 19.405008  ,  67.57898   ,  83.847275  ],\n",
       "         [ 16.56971   ,  26.698557  ,  28.784     ],\n",
       "         ...,\n",
       "         [  5.93585   ,  38.285645  ,  48.769257  ],\n",
       "         [ 15.969359  ,  89.230835  , 130.24377   ],\n",
       "         [ 14.142456  ,  88.94629   , 135.36469   ]],\n",
       "\n",
       "        [[ 34.785713  ,  91.05378   , 127.39543   ],\n",
       "         [ 37.224327  ,  93.4924    , 126.58176   ],\n",
       "         [ 31.083902  ,  51.92857   ,  61.339497  ],\n",
       "         ...,\n",
       "         [ 57.85153   , 119.49978   , 141.18993   ],\n",
       "         [ 14.357178  ,  87.35718   , 130.35718   ],\n",
       "         [ 10.284446  ,  87.28445   , 133.28444   ]]],\n",
       "\n",
       "\n",
       "       [[[218.        , 225.        , 218.        ],\n",
       "         [218.        , 225.        , 218.        ],\n",
       "         [220.        , 227.        , 220.        ],\n",
       "         ...,\n",
       "         [151.73215   , 162.64285   , 168.91072   ],\n",
       "         [150.82143   , 163.91072   , 173.08928   ],\n",
       "         [156.84056   , 162.98087   , 175.08928   ]],\n",
       "\n",
       "        [[218.        , 225.        , 218.        ],\n",
       "         [218.        , 225.        , 218.        ],\n",
       "         [220.        , 227.        , 220.        ],\n",
       "         ...,\n",
       "         [155.19643   , 170.19643   , 176.55615   ],\n",
       "         [160.        , 170.        , 179.        ],\n",
       "         [165.94638   , 169.51791   , 180.73215   ]],\n",
       "\n",
       "        [[218.        , 225.        , 218.        ],\n",
       "         [218.        , 225.        , 218.        ],\n",
       "         [218.        , 225.        , 218.        ],\n",
       "         ...,\n",
       "         [163.33928   , 179.89285   , 197.        ],\n",
       "         [163.64282   , 181.2666    , 195.17735   ],\n",
       "         [170.        , 180.54211   , 196.52415   ]],\n",
       "\n",
       "        ...,\n",
       "\n",
       "        [[109.672066  , 104.672066  , 110.672066  ],\n",
       "         [111.55347   , 106.55347   , 112.55347   ],\n",
       "         [117.96407   , 113.96407   , 114.96407   ],\n",
       "         ...,\n",
       "         [188.        , 206.        , 220.        ],\n",
       "         [186.        , 204.        , 218.        ],\n",
       "         [186.        , 204.        , 218.        ]],\n",
       "\n",
       "        [[100.732056  ,  95.732056  , 101.732056  ],\n",
       "         [111.82775   , 106.82775   , 112.82775   ],\n",
       "         [110.732056  , 105.732056  , 110.267944  ],\n",
       "         ...,\n",
       "         [187.        , 205.        , 219.        ],\n",
       "         [186.        , 204.        , 218.        ],\n",
       "         [186.        , 204.        , 218.        ]],\n",
       "\n",
       "        [[ 94.48207   ,  89.48207   ,  95.48207   ],\n",
       "         [104.8532    ,  99.8532    , 105.8532    ],\n",
       "         [106.910645  , 101.910645  , 107.910645  ],\n",
       "         ...,\n",
       "         [187.        , 205.        , 219.        ],\n",
       "         [186.        , 204.        , 218.        ],\n",
       "         [186.        , 204.        , 218.        ]]],\n",
       "\n",
       "\n",
       "       [[[  0.        ,   0.        ,   0.        ],\n",
       "         [  0.        ,   0.        ,   0.        ],\n",
       "         [  0.        ,   0.        ,   0.        ],\n",
       "         ...,\n",
       "         [202.82812   , 199.        , 202.60938   ],\n",
       "         [202.46875   , 198.23438   , 198.40625   ],\n",
       "         [202.92188   , 198.92188   , 197.92188   ]],\n",
       "\n",
       "        [[  0.        ,   0.        ,   0.        ],\n",
       "         [  0.        ,   0.        ,   0.        ],\n",
       "         [  0.        ,   0.        ,   0.        ],\n",
       "         ...,\n",
       "         [200.48193   , 196.50244   , 199.23605   ],\n",
       "         [203.04178   , 199.17502   , 196.57903   ],\n",
       "         [202.39209   , 198.44615   , 195.9541    ]],\n",
       "\n",
       "        [[  0.        ,   0.        ,   0.        ],\n",
       "         [  0.        ,   0.        ,   0.        ],\n",
       "         [  0.        ,   0.        ,   0.        ],\n",
       "         ...,\n",
       "         [198.63156   , 196.85045   , 200.1674    ],\n",
       "         [202.46812   , 199.56334   , 195.9633    ],\n",
       "         [202.56682   , 198.64494   , 195.4887    ]],\n",
       "\n",
       "        ...,\n",
       "\n",
       "        [[164.9302    , 166.32536   , 160.93246   ],\n",
       "         [149.52411   , 149.52411   , 144.60449   ],\n",
       "         [126.147095  , 126.94928   , 124.17287   ],\n",
       "         ...,\n",
       "         [121.392     , 120.990906  , 121.7845    ],\n",
       "         [ 39.048668  ,  41.36606   ,  44.656654  ],\n",
       "         [ 16.774754  ,  22.118586  ,  27.987038  ]],\n",
       "\n",
       "        [[143.30289   , 145.81085   , 144.71318   ],\n",
       "         [117.42482   , 118.657     , 118.052826  ],\n",
       "         [ 93.98013   ,  96.413826  ,  96.93009   ],\n",
       "         ...,\n",
       "         [121.04902   , 119.89234   , 120.84611   ],\n",
       "         [ 37.565727  ,  40.483833  ,  44.23462   ],\n",
       "         [ 15.403522  ,  22.169147  ,  29.266882  ]],\n",
       "\n",
       "        [[105.515625  , 109.515625  , 112.515625  ],\n",
       "         [ 85.421875  ,  89.421875  ,  91.953125  ],\n",
       "         [ 78.5625    ,  82.953125  ,  84.734375  ],\n",
       "         ...,\n",
       "         [125.265625  , 123.265625  , 125.484375  ],\n",
       "         [ 39.1875    ,  41.78125   ,  47.078125  ],\n",
       "         [ 14.765625  ,  21.53125   ,  29.375     ]]],\n",
       "\n",
       "\n",
       "       ...,\n",
       "\n",
       "\n",
       "       [[[  0.        ,   0.        ,   0.        ],\n",
       "         [  0.        ,   0.        ,   0.        ],\n",
       "         [  0.        ,   0.        ,   0.        ],\n",
       "         ...,\n",
       "         [175.56029   , 174.10936   , 174.83482   ],\n",
       "         [176.1085    , 174.1085    , 175.1085    ],\n",
       "         [178.54463   , 174.54463   , 175.54463   ]],\n",
       "\n",
       "        [[  0.        ,   0.        ,   0.        ],\n",
       "         [  0.        ,   0.        ,   0.        ],\n",
       "         [  0.        ,   0.        ,   0.        ],\n",
       "         ...,\n",
       "         [  1.1294461 ,   0.66955405,   0.89950013],\n",
       "         [  2.2973273 ,   0.29732737,   1.2973274 ],\n",
       "         [  3.3169641 ,   0.68303585,   1.6830359 ]],\n",
       "\n",
       "        [[  0.        ,   0.        ,   0.        ],\n",
       "         [  0.        ,   0.        ,   0.        ],\n",
       "         [  0.        ,   0.        ,   0.        ],\n",
       "         ...,\n",
       "         [  0.8616071 ,   0.8616071 ,   0.8616071 ],\n",
       "         [  1.7232141 ,   0.        ,   0.8616071 ],\n",
       "         [  1.7232141 ,   0.        ,   0.8616071 ]],\n",
       "\n",
       "        ...,\n",
       "\n",
       "        [[  0.        ,   0.        ,   0.        ],\n",
       "         [  0.        ,   0.        ,   0.        ],\n",
       "         [  0.        ,   0.        ,   0.        ],\n",
       "         ...,\n",
       "         [ 87.47506   ,  77.399086  ,  78.43707   ],\n",
       "         [ 95.328186  ,  86.328186  ,  87.328186  ],\n",
       "         [ 45.911194  ,  40.201355  ,  40.076347  ]],\n",
       "\n",
       "        [[  0.        ,   0.        ,   0.        ],\n",
       "         [  0.        ,   0.        ,   0.        ],\n",
       "         [  0.        ,   0.        ,   0.        ],\n",
       "         ...,\n",
       "         [ 32.863186  ,  23.093147  ,  24.093147  ],\n",
       "         [ 51.758667  ,  44.064575  ,  44.629272  ],\n",
       "         [ 32.585213  ,  28.631199  ,  27.677187  ]],\n",
       "\n",
       "        [[  0.        ,   0.        ,   0.        ],\n",
       "         [  0.        ,   0.        ,   0.        ],\n",
       "         [  0.        ,   0.        ,   0.        ],\n",
       "         ...,\n",
       "         [ 19.714231  ,  10.439696  ,  11.439696  ],\n",
       "         [ 16.486229  ,  10.100552  ,  10.229111  ],\n",
       "         [ 11.756205  ,   8.125387  ,   7.2704678 ]]],\n",
       "\n",
       "\n",
       "       [[[223.83496   , 224.83496   , 209.95996   ],\n",
       "         [221.66406   , 222.05469   , 208.93164   ],\n",
       "         [184.50098   , 183.62598   , 171.21289   ],\n",
       "         ...,\n",
       "         [ 49.36621   ,  50.36621   ,  45.36621   ],\n",
       "         [ 50.296875  ,  51.296875  ,  46.296875  ],\n",
       "         [ 47.745117  ,  48.745117  ,  43.745117  ]],\n",
       "\n",
       "        [[255.        , 254.86035   , 239.17188   ],\n",
       "         [255.        , 253.93164   , 239.40332   ],\n",
       "         [237.74902   , 233.74902   , 221.75977   ],\n",
       "         ...,\n",
       "         [ 60.191406  ,  59.191406  ,  54.191406  ],\n",
       "         [ 55.978516  ,  54.978516  ,  49.978516  ],\n",
       "         [ 51.1709    ,  50.1709    ,  45.1709    ]],\n",
       "\n",
       "        [[254.625     , 253.8125    , 233.0625    ],\n",
       "         [254.01562   , 251.98438   , 233.0625    ],\n",
       "         [250.18457   , 247.50684   , 229.80957   ],\n",
       "         ...,\n",
       "         [ 60.29883   ,  57.29883   ,  52.29883   ],\n",
       "         [ 55.421875  ,  52.421875  ,  47.421875  ],\n",
       "         [ 54.16504   ,  51.16504   ,  46.16504   ]],\n",
       "\n",
       "        ...,\n",
       "\n",
       "        [[253.        , 251.85059   , 222.67383   ],\n",
       "         [253.        , 251.88574   , 222.60352   ],\n",
       "         [252.        , 251.        , 221.375     ],\n",
       "         ...,\n",
       "         [ 70.59082   ,  64.59082   ,  52.59082   ],\n",
       "         [ 69.984375  ,  63.984375  ,  51.984375  ],\n",
       "         [ 68.578125  ,  62.578125  ,  50.578125  ]],\n",
       "\n",
       "        [[252.        , 253.        , 221.54785   ],\n",
       "         [252.        , 253.        , 221.        ],\n",
       "         [251.        , 252.        , 220.        ],\n",
       "         ...,\n",
       "         [ 67.015625  ,  63.015625  ,  53.390625  ],\n",
       "         [ 65.921875  ,  61.921875  ,  52.296875  ],\n",
       "         [ 63.71875   ,  59.71875   ,  50.09375   ]],\n",
       "\n",
       "        [[223.1875    , 224.625     , 204.71875   ],\n",
       "         [223.1875    , 224.625     , 203.125     ],\n",
       "         [223.18066   , 224.625     , 203.11816   ],\n",
       "         ...,\n",
       "         [ 55.58008   ,  53.67871   ,  48.375     ],\n",
       "         [ 56.810547  ,  53.907227  ,  48.9375    ],\n",
       "         [ 57.021484  ,  53.801758  ,  48.9375    ]]],\n",
       "\n",
       "\n",
       "       [[[218.42293   , 220.42293   , 217.42293   ],\n",
       "         [213.26472   , 215.2332    , 212.26472   ],\n",
       "         [223.20998   , 225.20998   , 222.68767   ],\n",
       "         ...,\n",
       "         [218.5692    , 218.5692    , 216.5692    ],\n",
       "         [218.5692    , 218.5692    , 216.5692    ],\n",
       "         [218.5692    , 218.5692    , 216.5692    ]],\n",
       "\n",
       "        [[222.55804   , 224.30357   , 221.68527   ],\n",
       "         [249.74765   , 251.03362   , 248.96947   ],\n",
       "         [212.05025   , 214.05025   , 211.72162   ],\n",
       "         ...,\n",
       "         [223.5915    , 223.5915    , 221.84598   ],\n",
       "         [223.5915    , 223.5915    , 221.84598   ],\n",
       "         [223.5915    , 223.5915    , 221.84598   ]],\n",
       "\n",
       "        [[225.91759   , 225.91759   , 225.91759   ],\n",
       "         [235.85573   , 237.34235   , 236.59904   ],\n",
       "         [ 57.59405   ,  59.59405   ,  58.59405   ],\n",
       "         ...,\n",
       "         [ 13.0915165 ,  13.0915165 ,  13.0915165 ],\n",
       "         [ 13.0915165 ,  13.0915165 ,  13.0915165 ],\n",
       "         [ 13.0915165 ,  13.0915165 ,  13.0915165 ]],\n",
       "\n",
       "        ...,\n",
       "\n",
       "        [[228.67188   , 228.78606   , 219.72598   ],\n",
       "         [253.94147   , 254.36952   , 248.9885    ],\n",
       "         [ 27.989298  ,  27.612911  ,  27.38315   ],\n",
       "         ...,\n",
       "         [ 31.235779  ,  33.23578   ,  30.235779  ],\n",
       "         [ 37.071644  ,  39.071644  ,  36.071644  ],\n",
       "         [ 36.14821   ,  38.14821   ,  35.14821   ]],\n",
       "\n",
       "        [[227.7991    , 229.4241    , 226.09879   ],\n",
       "         [254.03265   , 254.35127   , 251.96959   ],\n",
       "         [ 28.16244   ,  27.267855  ,  25.628242  ],\n",
       "         ...,\n",
       "         [ 30.679953  ,  32.67995   ,  29.679953  ],\n",
       "         [ 37.604446  ,  39.604446  ,  36.604446  ],\n",
       "         [ 41.018158  ,  43.018158  ,  40.018158  ]],\n",
       "\n",
       "        [[226.95154   , 228.70377   , 225.95154   ],\n",
       "         [253.28822   , 253.54492   , 251.54492   ],\n",
       "         [ 27.265617  ,  26.310259  ,  24.549099  ],\n",
       "         ...,\n",
       "         [ 30.064932  ,  32.064934  ,  29.064932  ],\n",
       "         [ 39.00042   ,  41.00042   ,  38.00042   ],\n",
       "         [ 44.131065  ,  46.131065  ,  43.131065  ]]]], dtype=float32)>"
      ]
     },
     "execution_count": 6,
     "metadata": {},
     "output_type": "execute_result"
    }
   ],
   "source": [
    "data_class_0_reshaped"
   ]
  },
  {
   "cell_type": "code",
   "execution_count": 7,
   "metadata": {},
   "outputs": [],
   "source": [
    "# free-up memory\n",
    "del data_class_0, data_class_1, data_class_2, data_class_3, data_class_4, data_class_5"
   ]
  },
  {
   "cell_type": "code",
   "execution_count": 8,
   "metadata": {},
   "outputs": [],
   "source": [
    "# Create Data Dictionary\n",
    "\n",
    "data_dict = {\n",
    "    \"data\": [data_class_0_reshaped, \n",
    "             data_class_1_reshaped, \n",
    "             data_class_2_reshaped, \n",
    "             data_class_3_reshaped, \n",
    "             data_class_4_reshaped, \n",
    "             data_class_5_reshaped],\n",
    "    \"label\": [np.full((1,data_class_0_reshaped.shape[0]), 0), \n",
    "              np.full((1,data_class_1_reshaped.shape[0]), 1), \n",
    "              np.full((1,data_class_2_reshaped.shape[0]), 2), \n",
    "              np.full((1,data_class_3_reshaped.shape[0]), 3), \n",
    "              np.full((1,data_class_4_reshaped.shape[0]), 4), \n",
    "              np.full((1,data_class_5_reshaped.shape[0]), 5)]\n",
    "}"
   ]
  },
  {
   "cell_type": "code",
   "execution_count": 9,
   "metadata": {},
   "outputs": [
    {
     "data": {
      "text/plain": [
       "TensorShape([1569, 224, 224, 3])"
      ]
     },
     "execution_count": 9,
     "metadata": {},
     "output_type": "execute_result"
    }
   ],
   "source": [
    "# Combine data\n",
    "\n",
    "data_combined = tf.concat([data_class_0_reshaped, data_class_1_reshaped], axis=0)\n",
    "data_combined = tf.concat([data_combined, data_class_2_reshaped], axis=0)\n",
    "data_combined = tf.concat([data_combined, data_class_3_reshaped], axis=0)\n",
    "data_combined = tf.concat([data_combined, data_class_4_reshaped], axis=0)\n",
    "data_combined = tf.concat([data_combined, data_class_5_reshaped], axis=0)\n",
    "data_combined.shape"
   ]
  },
  {
   "cell_type": "code",
   "execution_count": 10,
   "metadata": {
    "scrolled": true
   },
   "outputs": [
    {
     "data": {
      "text/plain": [
       "<tf.Tensor: shape=(224, 224, 3), dtype=float32, numpy=\n",
       "array([[[144.63393 , 151.1046  , 153.70792 ],\n",
       "        [ 44.72704 ,  32.33291 ,  39.390305],\n",
       "        [189.32901 ,  79.63005 ,  82.374954],\n",
       "        ...,\n",
       "        [ 16.123608,  53.123608,  72.12361 ],\n",
       "        [ 38.164433,  73.16444 ,  92.16444 ],\n",
       "        [ 42.4548  ,  86.0975  , 101.88327 ]],\n",
       "\n",
       "       [[190.59564 , 204.01657 , 218.38136 ],\n",
       "        [174.01915 , 192.07272 , 186.82782 ],\n",
       "        [ 45.403053,  34.155632,  32.47705 ],\n",
       "        ...,\n",
       "        [ 38.75127 ,  75.751274,  94.751274],\n",
       "        [ 36.219578,  73.21958 ,  91.21958 ],\n",
       "        [ 17.267857,  59.48209 ,  75.482086]],\n",
       "\n",
       "       [[ 22.871164,  55.468098,  73.771675],\n",
       "        [125.454056, 153.51274 , 175.26146 ],\n",
       "        [202.51787 , 206.40053 , 211.93625 ],\n",
       "        ...,\n",
       "        [ 40.37122 ,  77.371216,  96.371216],\n",
       "        [ 19.389112,  58.0702  ,  75.22966 ],\n",
       "        [ 17.886398,  59.2437  ,  75.45793 ]],\n",
       "\n",
       "       ...,\n",
       "\n",
       "       [[ 43.563877,  92.51444 , 119.36663 ],\n",
       "        [ 15.143696,  39.8072  ,  47.77262 ],\n",
       "        [  4.649578,  17.649578,  25.721008],\n",
       "        ...,\n",
       "        [  8.039524,  23.672403,  32.114937],\n",
       "        [ 43.298584, 103.06574 , 126.26507 ],\n",
       "        [ 12.248779,  87.55347 , 132.11858 ]],\n",
       "\n",
       "       [[ 41.674637,  91.67464 , 128.3609  ],\n",
       "        [ 19.405008,  67.57898 ,  83.847275],\n",
       "        [ 16.56971 ,  26.698557,  28.784   ],\n",
       "        ...,\n",
       "        [  5.93585 ,  38.285645,  48.769257],\n",
       "        [ 15.969359,  89.230835, 130.24377 ],\n",
       "        [ 14.142456,  88.94629 , 135.36469 ]],\n",
       "\n",
       "       [[ 34.785713,  91.05378 , 127.39543 ],\n",
       "        [ 37.224327,  93.4924  , 126.58176 ],\n",
       "        [ 31.083902,  51.92857 ,  61.339497],\n",
       "        ...,\n",
       "        [ 57.85153 , 119.49978 , 141.18993 ],\n",
       "        [ 14.357178,  87.35718 , 130.35718 ],\n",
       "        [ 10.284446,  87.28445 , 133.28444 ]]], dtype=float32)>"
      ]
     },
     "execution_count": 10,
     "metadata": {},
     "output_type": "execute_result"
    }
   ],
   "source": [
    "data_combined[0]"
   ]
  },
  {
   "cell_type": "code",
   "execution_count": 11,
   "metadata": {},
   "outputs": [
    {
     "data": {
      "text/plain": [
       "1569"
      ]
     },
     "execution_count": 11,
     "metadata": {},
     "output_type": "execute_result"
    }
   ],
   "source": [
    "# Combine labels\n",
    "\n",
    "data_labels_combined = np.concatenate((data_dict['label'][0], data_dict['label'][1]), axis = 1)\n",
    "data_labels_combined = np.concatenate((data_labels_combined, data_dict['label'][2]), axis = 1)\n",
    "data_labels_combined = np.concatenate((data_labels_combined, data_dict['label'][3]), axis = 1)\n",
    "data_labels_combined = np.concatenate((data_labels_combined, data_dict['label'][4]), axis = 1)\n",
    "data_labels_combined = np.concatenate((data_labels_combined, data_dict['label'][5]), axis = 1)\n",
    "np.size(data_labels_combined)"
   ]
  },
  {
   "cell_type": "code",
   "execution_count": 12,
   "metadata": {},
   "outputs": [],
   "source": [
    "# Free memory\n",
    "\n",
    "del data_class_0_reshaped, data_class_1_reshaped, data_class_2_reshaped, data_class_3_reshaped, data_class_4_reshaped, data_class_5_reshaped"
   ]
  },
  {
   "cell_type": "code",
   "execution_count": null,
   "metadata": {},
   "outputs": [],
   "source": [
    "# Split into training and testing\n"
   ]
  },
  {
   "cell_type": "code",
   "execution_count": null,
   "metadata": {},
   "outputs": [],
   "source": [
    "data_combined"
   ]
  },
  {
   "cell_type": "code",
   "execution_count": 13,
   "metadata": {},
   "outputs": [],
   "source": [
    "data_combined_normalised = data_combined / 255"
   ]
  },
  {
   "cell_type": "markdown",
   "metadata": {},
   "source": [
    "# Modelling"
   ]
  },
  {
   "cell_type": "code",
   "execution_count": 14,
   "metadata": {},
   "outputs": [],
   "source": [
    "import tensorflow as tf\n",
    "from tensorflow.keras.applications.xception import Xception"
   ]
  },
  {
   "cell_type": "code",
   "execution_count": 28,
   "metadata": {},
   "outputs": [],
   "source": [
    "##### Transfer learning"
   ]
  },
  {
   "cell_type": "code",
   "execution_count": null,
   "metadata": {},
   "outputs": [],
   "source": [
    "n_classes = 6"
   ]
  },
  {
   "cell_type": "code",
   "execution_count": 52,
   "metadata": {},
   "outputs": [],
   "source": [
    "base_model = tf.keras.applications.xception.Xception(weights = \"imagenet\",\n",
    "                                                    include_top= False)\n",
    "avg = tf.keras.layers.GlobalAveragePooling2D()(base_model.output)\n",
    "output = tf.keras.layers.Dense(n_classes, activation=\"softmax\")(avg)"
   ]
  },
  {
   "cell_type": "code",
   "execution_count": 53,
   "metadata": {},
   "outputs": [],
   "source": [
    "model = tf.keras.Model(inputs=base_model.input, outputs= output)"
   ]
  },
  {
   "cell_type": "code",
   "execution_count": 54,
   "metadata": {},
   "outputs": [],
   "source": [
    "for layer in base_model.layers:\n",
    "    layer.trainable = False"
   ]
  },
  {
   "cell_type": "code",
   "execution_count": 55,
   "metadata": {},
   "outputs": [],
   "source": [
    "optimiser = tf.keras.optimizers.SGD(learning_rate=0.2, momentum=0.9, decay= 0.01)\n",
    "model.compile(loss=\"SparseCategoricalCrossentropy\", optimizer = optimiser, metrics =[\"accuracy\"])"
   ]
  },
  {
   "cell_type": "code",
   "execution_count": 57,
   "metadata": {},
   "outputs": [
    {
     "name": "stdout",
     "output_type": "stream",
     "text": [
      "Epoch 1/5\n",
      "50/50 [==============================] - 139s 3s/step - loss: 2.7009 - accuracy: 0.6571\n",
      "Epoch 2/5\n",
      "50/50 [==============================] - 160s 3s/step - loss: 1.6130 - accuracy: 0.7827\n",
      "Epoch 3/5\n",
      "50/50 [==============================] - 154s 3s/step - loss: 0.7093 - accuracy: 0.8458\n",
      "Epoch 4/5\n",
      "50/50 [==============================] - 151s 3s/step - loss: 0.4802 - accuracy: 0.8821\n",
      "Epoch 5/5\n",
      "50/50 [==============================] - 141s 3s/step - loss: 0.2544 - accuracy: 0.9222\n"
     ]
    }
   ],
   "source": [
    "history = model.fit(data_combined_normalised,\n",
    "                    data_labels_combined.reshape(1569,1),\n",
    "                    epochs = 5)"
   ]
  },
  {
   "cell_type": "code",
   "execution_count": 63,
   "metadata": {},
   "outputs": [
    {
     "data": {
      "image/png": "[encoded data removed]",
      "text/plain": [
       "<Figure size 720x432 with 1 Axes>"
      ]
     },
     "metadata": {
      "needs_background": "light"
     },
     "output_type": "display_data"
    }
   ],
   "source": [
    "# Plot training history\n",
    "\n",
    "import pandas as pd\n",
    "import matplotlib.pyplot as plt\n",
    "\n",
    "pd.DataFrame(history.history).plot(figsize=(10,6))\n",
    "plt.grid(True)\n",
    "plt.gca().set_ylim(0,3)\n",
    "plt.show()"
   ]
  },
  {
   "cell_type": "code",
   "execution_count": null,
   "metadata": {},
   "outputs": [],
   "source": [
    "# Predict new instance\n",
    "\n",
    "# import libraries\n",
    "import numpy as np\n",
    "\n",
    "# Libraries to save names of images in Data folder\n",
    "from os import listdir\n",
    "from os.path import isfile, join\n",
    "\n",
    "# keras load image, resize and save as array\n",
    "import tensorflow as tf\n",
    "from tensorflow.keras.preprocessing.image import load_img\n",
    "#import image \n",
    "from tensorflow.keras.preprocessing.image import img_to_array\n",
    "\n",
    "def import_image(directory, image):\n",
    "    # load the image\n",
    "    img = load_img(f'{directory}{image}')\n",
    "      \n",
    "    # convert to numpy array\n",
    "    data = img_to_array(img)\n",
    "    \n",
    "    # convert image to size 224 x 224 (for ResNet)\n",
    "    img_resized = tf.image.resize(data,[224,224])\n",
    "    return img_resized"
   ]
  },
  {
   "cell_type": "code",
   "execution_count": 73,
   "metadata": {},
   "outputs": [],
   "source": [
    "directory_test_image = \"C:/Users/Aiden/Documents/Data_Science_Stuff/sf_Data_Science_Stuff/Projects/05_Motor_Insurance_Claims_Classifier/dev_aiden/01_Image_Scrape/Predict_new_instance/\"\n",
    "image = \"test_image_02_rotated.jpg\"\n",
    "\n",
    "test_image = import_image(directory_test_image, image)"
   ]
  },
  {
   "cell_type": "code",
   "execution_count": 74,
   "metadata": {},
   "outputs": [],
   "source": [
    "test_image = test_image / 255"
   ]
  },
  {
   "cell_type": "code",
   "execution_count": 75,
   "metadata": {},
   "outputs": [],
   "source": [
    "test_image = tf.expand_dims(test_image, axis=0)"
   ]
  },
  {
   "cell_type": "code",
   "execution_count": 76,
   "metadata": {},
   "outputs": [
    {
     "data": {
      "text/plain": [
       "array([[0., 1., 0., 0., 0., 0.]], dtype=float32)"
      ]
     },
     "execution_count": 76,
     "metadata": {},
     "output_type": "execute_result"
    }
   ],
   "source": [
    "# Predict new image\n",
    "test_proba = model.predict(test_image)\n",
    "test_proba.round(2)"
   ]
  },
  {
   "cell_type": "code",
   "execution_count": null,
   "metadata": {},
   "outputs": [],
   "source": []
  }
 ],
 "metadata": {
  "kernelspec": {
   "display_name": "Python 3 (ipykernel)",
   "language": "python",
   "name": "python3"
  },
  "language_info": {
   "codemirror_mode": {
    "name": "ipython",
    "version": 3
   },
   "file_extension": ".py",
   "mimetype": "text/x-python",
   "name": "python",
   "nbconvert_exporter": "python",
   "pygments_lexer": "ipython3",
   "version": "3.9.13"
  }
 },
 "nbformat": 4,
 "nbformat_minor": 4
}
